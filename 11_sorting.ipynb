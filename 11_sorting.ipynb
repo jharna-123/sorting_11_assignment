{
 "cells": [
  {
   "cell_type": "code",
   "execution_count": null,
   "metadata": {},
   "outputs": [],
   "source": []
  },
  {
   "cell_type": "markdown",
   "metadata": {},
   "source": [
    "Problem 1.Given an array of n numbers, give an algorithm which gives the element appearing maximum\n",
    "number of times?\n",
    "\n",
    "Problem 2 : We are given a list of n-1 integers and these integers are in the range of 1 to n . There are no\n",
    "duplicates in the list. One of the integers is missing in the list. Give an algorithm to find that element Ex:\n",
    "[1,2,4,6,3,7,8] 5 is the missing num.\n",
    "\n",
    "Problem 3 : Given an array of n positive numbers. All numbers occurs even number of times except 1 which\n",
    "occurs odd number of times. Find that number in O(n) time and O(1) space. Ex: [1,2,3,2,3,1,3]. 3 is repeats odd\n",
    "times.\n",
    "\n",
    "Problem 4 : Given an array of n elements. Find two elements in the array such that their sum is equal to given\n",
    "element K.\n",
    "\n",
    "Problem 5 : Given an array of both positive and negative numbers, find two numbers such that their sum is\n",
    "closest to 0. Ex: [ 1 ,60 ,-10, 70, -80,85]. Ans : -80,85.\n",
    "\n",
    "Problem 6 : Given an array of n elements . Find three elements such that their sum is equal to the given\n",
    "number.\n",
    "\n",
    "Problem 7 : Given an array of n elements . Find three elements i, j, k in the array such that\n",
    "i * i + j * j = k*k.\n",
    "\n",
    "Problem 8 : An element is a majority if it appears more than n/2 times. Give an algorithm takes an array of n\n",
    "element as argument and identifies a majority (if it exists).\n",
    "\n",
    "Problem 9 : Given n × n matrix, and in each row all 1’s are followed by 0’s. Find the row with the maximum\n",
    "number of 0’s.\n",
    "\n",
    "Problem 10 : Sort an array of 0’s, 1’s and 2’s [or R’s, G’s and B’s]: Given an array A[] consisting of 0’s, 1’s and\n",
    "2’s, give an algorithm for sorting A[].The algorithm should put all 0’s first, then all 1’s and finally all 2’s at the\n",
    "end. Example Input = {0,1,1,0,1,2,1,2,0,0,0,1}, Output = {0,0,0,0,0,1,1,1,1,1,2,2}"
   ]
  },
  {
   "cell_type": "code",
   "execution_count": 1,
   "metadata": {},
   "outputs": [
    {
     "name": "stdout",
     "output_type": "stream",
     "text": [
      "2\n"
     ]
    }
   ],
   "source": [
    "def find_max_occurrence(arr):\n",
    " \n",
    "\n",
    "  count = {}\n",
    "  max_count = 0\n",
    "  max_element = None\n",
    "\n",
    "  for num in arr:\n",
    "    count[num] = count.get(num, 0) + 1\n",
    "    if count[num] > max_count:\n",
    "      max_count = count[num]\n",
    "      max_element = num\n",
    "\n",
    "  return max_element\n",
    "\n",
    "\n",
    "array = [1, 2, 3, 2, 4, 1, 2, 5, 2, 3]\n",
    "result = find_max_occurrence(array)\n",
    "print(result)  # Output: 2"
   ]
  },
  {
   "cell_type": "code",
   "execution_count": 10,
   "metadata": {},
   "outputs": [
    {
     "name": "stdout",
     "output_type": "stream",
     "text": [
      "5\n"
     ]
    }
   ],
   "source": [
    "#2\n",
    "def find_missing_number(arr):\n",
    "\n",
    "  n = len(arr) + 1\n",
    "  expected_sum = n * (n + 1) // 2\n",
    "  actual_sum = sum(arr)\n",
    "\n",
    "  return expected_sum - actual_sum\n",
    "\n",
    "# Example usage\n",
    "array = [1, 2, 4, 6, 3, 7, 8]\n",
    "result = find_missing_number(array)\n",
    "print(result)  # Output: 5"
   ]
  },
  {
   "cell_type": "code",
   "execution_count": 9,
   "metadata": {},
   "outputs": [
    {
     "name": "stdout",
     "output_type": "stream",
     "text": [
      "3\n"
     ]
    }
   ],
   "source": [
    "#3\n",
    "def find_odd_occurrence(arr):\n",
    " \n",
    "\n",
    "\n",
    "  result = 0\n",
    "  for num in arr:\n",
    "    result ^= num\n",
    "  return result\n",
    "\n",
    "# Example usage\n",
    "array = [1, 2, 3, 2, 3, 1, 3]\n",
    "result = find_odd_occurrence(array)\n",
    "print(result)  # Output: 3"
   ]
  },
  {
   "cell_type": "code",
   "execution_count": 8,
   "metadata": {},
   "outputs": [
    {
     "name": "stdout",
     "output_type": "stream",
     "text": [
      "(3, 4)\n"
     ]
    }
   ],
   "source": [
    "#4\n",
    "def two_sum(arr, k):\n",
    "\n",
    "  num_to_index = {}\n",
    "  for i, num in enumerate(arr):\n",
    "    complement = k - num\n",
    "    if complement in num_to_index:\n",
    "      return num_to_index[complement], i\n",
    "    num_to_index[num] = i\n",
    "  return None\n",
    "\n",
    "# Example usage\n",
    "array = [10, 5, 3, 4, 8]\n",
    "k = 12\n",
    "result = two_sum(array, k)\n",
    "print(result)  # Output: (1, 3)"
   ]
  },
  {
   "cell_type": "code",
   "execution_count": 7,
   "metadata": {},
   "outputs": [
    {
     "name": "stdout",
     "output_type": "stream",
     "text": [
      "(-80, 85)\n"
     ]
    }
   ],
   "source": [
    "#5\n",
    "def closest_to_zero_sum(arr):\n",
    " \n",
    "\n",
    "  arr.sort()\n",
    "  left = 0\n",
    "  right = len(arr) - 1\n",
    "  min_sum = abs(arr[left] + arr[right])\n",
    "  closest_pair = (arr[left], arr[right])\n",
    "\n",
    "  while left < right:\n",
    "    current_sum = arr[left] + arr[right]\n",
    "    if abs(current_sum) < min_sum:\n",
    "      min_sum = abs(current_sum)\n",
    "      closest_pair = (arr[left], arr[right])\n",
    "    if current_sum < 0:\n",
    "      left += 1\n",
    "    elif current_sum > 0:\n",
    "      right -= 1\n",
    "\n",
    "  return closest_pair\n",
    "\n",
    "# Example usage\n",
    "array = [1, 60, -10, 70, -80, 85]\n",
    "result = closest_to_zero_sum(array)\n",
    "print(result)  # Output: (-80, 85)"
   ]
  },
  {
   "cell_type": "code",
   "execution_count": 6,
   "metadata": {},
   "outputs": [
    {
     "name": "stdout",
     "output_type": "stream",
     "text": [
      "[(-1, -1, 2), (-1, 0, 1), (-1, 0, 1)]\n"
     ]
    }
   ],
   "source": [
    "#6\n",
    "def three_sum(arr, target):\n",
    "  \n",
    "\n",
    "\n",
    "  arr.sort()\n",
    "  triplets = []\n",
    "  for i in range(len(arr) - 2):\n",
    "    left = i + 1\n",
    "    right = len(arr) - 1\n",
    "    while left < right:\n",
    "      current_sum = arr[i] + arr[left] + arr[right]\n",
    "      if current_sum == target:\n",
    "        triplets.append((arr[i], arr[left], arr[right]))\n",
    "        left += 1\n",
    "        right -= 1\n",
    "      elif current_sum < target:\n",
    "        left += 1\n",
    "      else:\n",
    "        right -= 1\n",
    "  return triplets\n",
    "\n",
    "# Example usage\n",
    "array = [-1, 0, 1, 2, -1, -4]\n",
    "target = 0\n",
    "result = three_sum(array, target)\n",
    "print(result)  # Output: [(-1, 0, 1), (-1, -1, 2)]"
   ]
  },
  {
   "cell_type": "code",
   "execution_count": 12,
   "metadata": {},
   "outputs": [
    {
     "name": "stdout",
     "output_type": "stream",
     "text": [
      "(3, 4, 5)\n"
     ]
    }
   ],
   "source": [
    "#7\n",
    "import math\n",
    "def pythagorean_triplet(arr):\n",
    "\n",
    "  squares = set()\n",
    "  for num in arr:\n",
    "    squares.add(num * num)\n",
    "  for i in range(len(arr) - 1):\n",
    "    for j in range(i + 1, len(arr)):\n",
    "      c_square = arr[i] * arr[i] + arr[j] * arr[j]\n",
    "      if c_square in squares:\n",
    "        return arr[i], arr[j], int(math.sqrt(c_square))\n",
    "  return None\n",
    "\n",
    "# Example usage\n",
    "array = [1, 2, 3, 4, 5]\n",
    "result = pythagorean_triplet(array)\n",
    "print(result)  # Output: (3, 4, 5)"
   ]
  },
  {
   "cell_type": "code",
   "execution_count": 4,
   "metadata": {},
   "outputs": [
    {
     "name": "stdout",
     "output_type": "stream",
     "text": [
      "2\n"
     ]
    }
   ],
   "source": [
    "#8\n",
    "def majority_element(arr):\n",
    "\n",
    "\n",
    "  candidate = None\n",
    "  count = 0\n",
    "  for num in arr:\n",
    "    if count == 0:\n",
    "      candidate = num\n",
    "      count = 1\n",
    "    elif num == candidate:\n",
    "      count += 1\n",
    "    else:\n",
    "      count -= 1\n",
    "\n",
    "  count = 0\n",
    "  for num in arr:\n",
    "    if num == candidate:\n",
    "      count += 1\n",
    "  if count > len(arr) // 2:\n",
    "    return candidate\n",
    "  return None\n",
    "\n",
    "# Example usage\n",
    "array = [2, 2, 1, 1, 1, 2, 2]\n",
    "result = majority_element(array)\n",
    "print(result)  # Output: 1"
   ]
  },
  {
   "cell_type": "code",
   "execution_count": 2,
   "metadata": {},
   "outputs": [
    {
     "name": "stdout",
     "output_type": "stream",
     "text": [
      "2\n"
     ]
    }
   ],
   "source": [
    "#9\n",
    "def max_zeros_row(matrix):\n",
    " \n",
    "\n",
    "  max_zeros = 0\n",
    "  max_zeros_row = 0\n",
    "  for i in range(len(matrix)):\n",
    "    zero_count = matrix[i].count(0)\n",
    "    if zero_count > max_zeros:\n",
    "      max_zeros = zero_count\n",
    "      max_zeros_row = i\n",
    "  return max_zeros_row\n",
    "\n",
    "# Example usage\n",
    "matrix = [[1, 1, 0, 0], [0, 0, 1, 1], [1, 0, 0, 0]]\n",
    "result = max_zeros_row(matrix)\n",
    "print(result)"
   ]
  },
  {
   "cell_type": "code",
   "execution_count": 3,
   "metadata": {},
   "outputs": [
    {
     "name": "stdout",
     "output_type": "stream",
     "text": [
      "[0, 0, 0, 0, 0, 1, 1, 1, 1, 1, 2, 2]\n"
     ]
    }
   ],
   "source": [
    "#10\n",
    "def dutch_national_flag(arr):\n",
    " \n",
    "\n",
    "  low = 0\n",
    "  mid = 0\n",
    "  high = len(arr) - 1\n",
    "\n",
    "  while mid <= high:\n",
    "    if arr[mid] == 0:\n",
    "      arr[low], arr[mid] = arr[mid], arr[low]\n",
    "      low += 1\n",
    "      mid += 1\n",
    "    elif arr[mid] == 1:\n",
    "      mid += 1\n",
    "    else:\n",
    "      arr[mid], arr[high] = arr[high], arr[mid]\n",
    "      high -= 1\n",
    "\n",
    "# Example usage\n",
    "array = [0, 1, 1, 0, 1, 2, 1, 2, 0, 0, 0, 1]\n",
    "dutch_national_flag(array)\n",
    "print(array)  # Output: [0, 0, 0, 0, 0, 1, 1, 1, 1, 1, 2, 2]"
   ]
  }
 ],
 "metadata": {
  "kernelspec": {
   "display_name": "Python 3",
   "language": "python",
   "name": "python3"
  },
  "language_info": {
   "codemirror_mode": {
    "name": "ipython",
    "version": 3
   },
   "file_extension": ".py",
   "mimetype": "text/x-python",
   "name": "python",
   "nbconvert_exporter": "python",
   "pygments_lexer": "ipython3",
   "version": "3.11.5"
  }
 },
 "nbformat": 4,
 "nbformat_minor": 2
}
